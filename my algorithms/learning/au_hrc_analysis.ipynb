{
 "cells": [
  {
   "cell_type": "code",
   "execution_count": 73,
   "metadata": {
    "collapsed": true
   },
   "outputs": [],
   "source": [
    "import pandas as pd\n",
    "import numpy as np\n",
    "import matplotlib.pyplot as plt\n",
    "import sqlite3\n",
    "from new_data import *\n",
    "import statsmodels.formula.api as sm\n",
    "import statsmodels.api\n",
    "import math\n",
    "\n",
    "conn = sqlite3.connect(\"C:/Users/j291414/Desktop/market_data.db\")"
   ]
  },
  {
   "cell_type": "markdown",
   "metadata": {},
   "source": [
    "# Prices"
   ]
  },
  {
   "cell_type": "code",
   "execution_count": 74,
   "metadata": {
    "collapsed": true
   },
   "outputs": [],
   "source": [
    "# HRC CFR Southeast Asia Index \n",
    "sql_hrc = \"select * from spot_index where code = 'PLSQ1032 Index'\"\n",
    "df = pd.read_sql_query(sql_hrc, conn)\n",
    "df['date'] = pd.to_datetime(df['date'], format=\"%Y-%m-%d\")\n",
    "df = df[df['date']>='2014-01-02']\n",
    "\n",
    "# Q235BShanghaiCommercial\n",
    "fx = get_data('fx', 'fx_daily')\n",
    "sql_sh = \"select * from spot_daily where spotID = 'Q235BShanghaiCommercial'\"\n",
    "sh = pd.read_sql_query(sql_sh, conn)\n",
    "sh['date'] = pd.to_datetime(sh['date'], format=\"%Y-%m-%d %H:%M:%S\")\n",
    "sh = sh[['date', 'close']]\n",
    "sh = divide_fx(sh, fx)"
   ]
  },
  {
   "cell_type": "code",
   "execution_count": 75,
   "metadata": {
    "scrolled": true
   },
   "outputs": [],
   "source": [
    "# Merge two DataFrame\n",
    "compare = sh.merge(df, how='outer', on='date')\n",
    "# Delete recently daily data"
   ]
  },
  {
   "cell_type": "code",
   "execution_count": 77,
   "metadata": {},
   "outputs": [
    {
     "data": {
      "text/html": [
       "<div>\n",
       "<style>\n",
       "    .dataframe thead tr:only-child th {\n",
       "        text-align: right;\n",
       "    }\n",
       "\n",
       "    .dataframe thead th {\n",
       "        text-align: left;\n",
       "    }\n",
       "\n",
       "    .dataframe tbody tr th {\n",
       "        vertical-align: top;\n",
       "    }\n",
       "</style>\n",
       "<table border=\"1\" class=\"dataframe\">\n",
       "  <thead>\n",
       "    <tr style=\"text-align: right;\">\n",
       "      <th></th>\n",
       "      <th>date</th>\n",
       "      <th>close_x</th>\n",
       "      <th>rate</th>\n",
       "      <th>result</th>\n",
       "      <th>code</th>\n",
       "      <th>close_y</th>\n",
       "    </tr>\n",
       "  </thead>\n",
       "  <tbody>\n",
       "    <tr>\n",
       "      <th>0</th>\n",
       "      <td>2014-01-02</td>\n",
       "      <td>3490.0</td>\n",
       "      <td>6.0508</td>\n",
       "      <td>576.783235</td>\n",
       "      <td>NaN</td>\n",
       "      <td>NaN</td>\n",
       "    </tr>\n",
       "    <tr>\n",
       "      <th>1</th>\n",
       "      <td>2014-01-03</td>\n",
       "      <td>3490.0</td>\n",
       "      <td>6.0517</td>\n",
       "      <td>576.697457</td>\n",
       "      <td>NaN</td>\n",
       "      <td>NaN</td>\n",
       "    </tr>\n",
       "    <tr>\n",
       "      <th>2</th>\n",
       "      <td>2014-01-06</td>\n",
       "      <td>3490.0</td>\n",
       "      <td>6.0525</td>\n",
       "      <td>576.621231</td>\n",
       "      <td>PLSQ1032 Index</td>\n",
       "      <td>555.0</td>\n",
       "    </tr>\n",
       "    <tr>\n",
       "      <th>3</th>\n",
       "      <td>2014-01-07</td>\n",
       "      <td>3470.0</td>\n",
       "      <td>6.0512</td>\n",
       "      <td>573.439979</td>\n",
       "      <td>NaN</td>\n",
       "      <td>NaN</td>\n",
       "    </tr>\n",
       "    <tr>\n",
       "      <th>4</th>\n",
       "      <td>2014-01-08</td>\n",
       "      <td>3460.0</td>\n",
       "      <td>6.0511</td>\n",
       "      <td>571.796863</td>\n",
       "      <td>NaN</td>\n",
       "      <td>NaN</td>\n",
       "    </tr>\n",
       "    <tr>\n",
       "      <th>5</th>\n",
       "      <td>2014-01-09</td>\n",
       "      <td>3460.0</td>\n",
       "      <td>6.0554</td>\n",
       "      <td>571.390825</td>\n",
       "      <td>NaN</td>\n",
       "      <td>NaN</td>\n",
       "    </tr>\n",
       "    <tr>\n",
       "      <th>6</th>\n",
       "      <td>2014-01-10</td>\n",
       "      <td>3460.0</td>\n",
       "      <td>6.0521</td>\n",
       "      <td>571.702384</td>\n",
       "      <td>NaN</td>\n",
       "      <td>NaN</td>\n",
       "    </tr>\n",
       "    <tr>\n",
       "      <th>7</th>\n",
       "      <td>2014-01-13</td>\n",
       "      <td>3470.0</td>\n",
       "      <td>6.0440</td>\n",
       "      <td>574.123097</td>\n",
       "      <td>PLSQ1032 Index</td>\n",
       "      <td>555.0</td>\n",
       "    </tr>\n",
       "    <tr>\n",
       "      <th>8</th>\n",
       "      <td>2014-01-14</td>\n",
       "      <td>3470.0</td>\n",
       "      <td>6.0406</td>\n",
       "      <td>574.446247</td>\n",
       "      <td>NaN</td>\n",
       "      <td>NaN</td>\n",
       "    </tr>\n",
       "    <tr>\n",
       "      <th>9</th>\n",
       "      <td>2014-01-15</td>\n",
       "      <td>3470.0</td>\n",
       "      <td>6.0462</td>\n",
       "      <td>573.914194</td>\n",
       "      <td>NaN</td>\n",
       "      <td>NaN</td>\n",
       "    </tr>\n",
       "  </tbody>\n",
       "</table>\n",
       "</div>"
      ],
      "text/plain": [
       "        date  close_x    rate      result            code  close_y\n",
       "0 2014-01-02   3490.0  6.0508  576.783235             NaN      NaN\n",
       "1 2014-01-03   3490.0  6.0517  576.697457             NaN      NaN\n",
       "2 2014-01-06   3490.0  6.0525  576.621231  PLSQ1032 Index    555.0\n",
       "3 2014-01-07   3470.0  6.0512  573.439979             NaN      NaN\n",
       "4 2014-01-08   3460.0  6.0511  571.796863             NaN      NaN\n",
       "5 2014-01-09   3460.0  6.0554  571.390825             NaN      NaN\n",
       "6 2014-01-10   3460.0  6.0521  571.702384             NaN      NaN\n",
       "7 2014-01-13   3470.0  6.0440  574.123097  PLSQ1032 Index    555.0\n",
       "8 2014-01-14   3470.0  6.0406  574.446247             NaN      NaN\n",
       "9 2014-01-15   3470.0  6.0462  573.914194             NaN      NaN"
      ]
     },
     "execution_count": 77,
     "metadata": {},
     "output_type": "execute_result"
    }
   ],
   "source": [
    "compare.head(10)"
   ]
  },
  {
   "cell_type": "code",
   "execution_count": 78,
   "metadata": {},
   "outputs": [
    {
     "name": "stderr",
     "output_type": "stream",
     "text": [
      "C:\\ProgramData\\Anaconda2\\lib\\site-packages\\ipykernel_launcher.py:3: SettingWithCopyWarning: \n",
      "A value is trying to be set on a copy of a slice from a DataFrame.\n",
      "Try using .loc[row_indexer,col_indexer] = value instead\n",
      "\n",
      "See the caveats in the documentation: http://pandas.pydata.org/pandas-docs/stable/indexing.html#indexing-view-versus-copy\n",
      "  This is separate from the ipykernel package so we can avoid doing imports until\n"
     ]
    }
   ],
   "source": [
    "compare = compare[compare['date']<='2017-10-09']\n",
    "# Average\n",
    "compare['test'] = np.nan\n",
    "num = 0\n",
    "total = 0 \n",
    "for i in range(len(compare)):\n",
    "    if math.isnan(compare['close_y'].values[i]):\n",
    "        total += compare['result'].values[i]\n",
    "        num += 1\n",
    "    else:\n",
    "        if num == 0:\n",
    "            compare['test'].values[i] = compare['result'].values[i]\n",
    "            total = 0\n",
    "            num = 0\n",
    "        else:\n",
    "            compare['test'].values[i] = total / float(num)\n",
    "            total = compare['result'].values[i]\n",
    "            num = 1\n",
    "compare = compare[['date', 'close_y', 'test']]\n",
    "compare = compare.dropna()\n",
    "compare.columns = ['date', 'close_y', 'result']"
   ]
  },
  {
   "cell_type": "markdown",
   "metadata": {},
   "source": [
    "# Regression "
   ]
  },
  {
   "cell_type": "code",
   "execution_count": 79,
   "metadata": {},
   "outputs": [
    {
     "name": "stdout",
     "output_type": "stream",
     "text": [
      "                            OLS Regression Results                            \n",
      "==============================================================================\n",
      "Dep. Variable:                close_y   R-squared:                       0.983\n",
      "Model:                            OLS   Adj. R-squared:                  0.983\n",
      "Method:                 Least Squares   F-statistic:                     8072.\n",
      "Date:                Thu, 09 Nov 2017   Prob (F-statistic):          2.38e-126\n",
      "Time:                        17:30:38   Log-Likelihood:                -551.75\n",
      "No. Observations:                 143   AIC:                             1107.\n",
      "Df Residuals:                     141   BIC:                             1113.\n",
      "Df Model:                           1                                         \n",
      "Covariance Type:            nonrobust                                         \n",
      "==============================================================================\n",
      "                 coef    std err          t      P>|t|      [0.025      0.975]\n",
      "------------------------------------------------------------------------------\n",
      "Intercept     15.2690      4.408      3.464      0.001       6.556      23.982\n",
      "result         0.9120      0.010     89.845      0.000       0.892       0.932\n",
      "==============================================================================\n",
      "Omnibus:                        0.414   Durbin-Watson:                   0.509\n",
      "Prob(Omnibus):                  0.813   Jarque-Bera (JB):                0.456\n",
      "Skew:                           0.126   Prob(JB):                        0.796\n",
      "Kurtosis:                       2.886   Cond. No.                     1.98e+03\n",
      "==============================================================================\n",
      "\n",
      "Warnings:\n",
      "[1] Standard Errors assume that the covariance matrix of the errors is correctly specified.\n",
      "[2] The condition number is large, 1.98e+03. This might indicate that there are\n",
      "strong multicollinearity or other numerical problems.\n"
     ]
    },
    {
     "data": {
      "image/png": "[encoded data removed]",
      "text/plain": [
       "<matplotlib.figure.Figure at 0xda30cc0>"
      ]
     },
     "metadata": {},
     "output_type": "display_data"
    }
   ],
   "source": [
    "# delete recently daily values\n",
    "compare = compare[(compare['date']<='2017-10-09')]\n",
    "compare = compare[(compare['date']>='2015-01-01')]\n",
    "\n",
    "result = sm.ols('close_y ~ result', compare).fit()\n",
    "print result.summary()\n",
    "k = result.params[1]\n",
    "b = result.params[0]\n",
    "plt.plot(compare['result'], compare['close_y'], 'o')\n",
    "plt.plot(compare['result'], k*compare['result']+b, 'r')\n",
    "plt.show()"
   ]
  },
  {
   "cell_type": "markdown",
   "metadata": {},
   "source": [
    "# Error"
   ]
  },
  {
   "cell_type": "code",
   "execution_count": 80,
   "metadata": {},
   "outputs": [
    {
     "name": "stdout",
     "output_type": "stream",
     "text": [
      "\n",
      "count    1.430000e+02\n",
      "mean    -1.991507e-13\n",
      "std      1.150674e+01\n",
      "min     -2.662666e+01\n",
      "25%     -6.757743e+00\n",
      "50%     -1.104001e+00\n",
      "75%      7.416131e+00\n",
      "max      3.057130e+01\n",
      "Name: spread, dtype: float64\n"
     ]
    },
    {
     "data": {
      "image/png": "[encoded data removed]",
      "text/plain": [
       "<matplotlib.figure.Figure at 0xd956e48>"
      ]
     },
     "metadata": {},
     "output_type": "display_data"
    }
   ],
   "source": [
    "compare['spread'] = compare['close_y'] - (k*compare['result']+b)\n",
    "std = compare['spread'].describe()['std']\n",
    "plt.plot(compare['date'], compare['spread'])\n",
    "plt.plot(compare['date'], 2*std*np.ones(len(compare['date'])), 'r--')\n",
    "plt.plot(compare['date'], -2*std*np.ones(len(compare['date'])), 'r--')\n",
    "plt.title('Error Figure')\n",
    "plt.xticks(rotation='vertical')\n",
    "print\n",
    "print compare['spread'].describe()\n",
    "plt.show()"
   ]
  },
  {
   "cell_type": "code",
   "execution_count": 81,
   "metadata": {},
   "outputs": [
    {
     "name": "stdout",
     "output_type": "stream",
     "text": [
      "\n",
      "Halflife =  3.0\n",
      "\n"
     ]
    }
   ],
   "source": [
    "spread_lag = compare.spread.shift(1)\n",
    "spread_lag.values[0] = spread_lag.values[1]\n",
    "spread_ret = compare.spread - spread_lag\n",
    "spread_ret.values[0] = spread_ret.values[1]\n",
    "spread_lag2 = statsmodels.api.add_constant(spread_lag)\n",
    " \n",
    "model = statsmodels.api.OLS(spread_ret,spread_lag2)\n",
    "res = model.fit()\n",
    " \n",
    " \n",
    "halflife = round(-np.log(2) / res.params[1],0)\n",
    " \n",
    "if halflife <= 0:\n",
    "    halflife = 1\n",
    "\n",
    "print \n",
    "print  'Halflife = ',halflife\n",
    "print"
   ]
  },
  {
   "cell_type": "code",
   "execution_count": null,
   "metadata": {
    "collapsed": true
   },
   "outputs": [],
   "source": []
  }
 ],
 "metadata": {
  "kernelspec": {
   "display_name": "Python 2",
   "language": "python",
   "name": "python2"
  },
  "language_info": {
   "codemirror_mode": {
    "name": "ipython",
    "version": 2
   },
   "file_extension": ".py",
   "mimetype": "text/x-python",
   "name": "python",
   "nbconvert_exporter": "python",
   "pygments_lexer": "ipython2",
   "version": "2.7.13"
  }
 },
 "nbformat": 4,
 "nbformat_minor": 2
}
